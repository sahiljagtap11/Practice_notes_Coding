{
  "nbformat": 4,
  "nbformat_minor": 0,
  "metadata": {
    "colab": {
      "provenance": [],
      "authorship_tag": "ABX9TyMlSydv0lPihnwyRyeTvT5A",
      "include_colab_link": true
    },
    "kernelspec": {
      "name": "python3",
      "display_name": "Python 3"
    },
    "language_info": {
      "name": "python"
    }
  },
  "cells": [
    {
      "cell_type": "markdown",
      "metadata": {
        "id": "view-in-github",
        "colab_type": "text"
      },
      "source": [
        "<a href=\"https://colab.research.google.com/github/sahiljagtap11/Practice_notes_Coding/blob/main/master_Sahil.ipynb\" target=\"_parent\"><img src=\"https://colab.research.google.com/assets/colab-badge.svg\" alt=\"Open In Colab\"/></a>"
      ]
    },
    {
      "cell_type": "markdown",
      "source": [
        "# This is my first colab NoteBook\n"
      ],
      "metadata": {
        "id": "QB9OchmAsjQW"
      }
    },
    {
      "cell_type": "markdown",
      "source": [
        "New Section"
      ],
      "metadata": {
        "id": "zZeSJOustSkf"
      }
    },
    {
      "cell_type": "code",
      "source": [
        "import numpy as np\n",
        "import pandas as pd\n",
        "import matplotlib.pyplot as plt\n"
      ],
      "metadata": {
        "id": "8ZnJqhczKvX9"
      },
      "execution_count": 1,
      "outputs": []
    },
    {
      "cell_type": "code",
      "execution_count": 2,
      "metadata": {
        "id": "1qaBiBuBsKbC",
        "colab": {
          "base_uri": "https://localhost:8080/",
          "height": 406
        },
        "outputId": "caeb913d-75fe-417c-ed40-d0d6410ac58d"
      },
      "outputs": [
        {
          "output_type": "display_data",
          "data": {
            "text/plain": [
              "<Figure size 640x480 with 1 Axes>"
            ],
            "image/png": "[encoded data removed]"
          },
          "metadata": {}
        }
      ],
      "source": [
        "fruit = ['guava','appy','banana','you','gigi']\n",
        "quant = [12,7,8,3,5]\n",
        "plt.pie(quant,labels = fruit,autopct = '%0.1f%%',colors = ['green','purple','red','blue','violet'])\n",
        "plt.show()"
      ]
    },
    {
      "cell_type": "code",
      "source": [
        "a = 2;\n",
        "b=4;\n",
        "c=8\n",
        "if a>b:\n",
        "  print(\"B is greater than A\")\n",
        "else:\n",
        "  print(\"fff\")"
      ],
      "metadata": {
        "id": "50LDfnHyKkL8",
        "outputId": "037944e0-b49f-49a1-d864-f81b6cc614f5",
        "colab": {
          "base_uri": "https://localhost:8080/"
        }
      },
      "execution_count": 3,
      "outputs": [
        {
          "output_type": "stream",
          "name": "stdout",
          "text": [
            "fff\n"
          ]
        }
      ]
    },
    {
      "cell_type": "code",
      "source": [
        "if(a>b) & (a>c):\n",
        "  print(\"A is greatest\")\n",
        "elif(b>a) & (b>c):\n",
        "  print(\"B is greatest\")\n",
        "else:\n",
        "  print(\"C is great\")"
      ],
      "metadata": {
        "colab": {
          "base_uri": "https://localhost:8080/"
        },
        "id": "FK6TYumh1vSK",
        "outputId": "77f9884b-b259-4426-b547-b8b1df0d1e04"
      },
      "execution_count": 4,
      "outputs": [
        {
          "output_type": "stream",
          "name": "stdout",
          "text": [
            "C is great\n"
          ]
        }
      ]
    },
    {
      "cell_type": "code",
      "source": [
        "#if with tuple\n",
        "tup = ('a','b','c')\n",
        "if 't' in tup:\n",
        "  print('value is pr in tup')\n",
        "else:\n",
        "  print(\" not in tup\")\n"
      ],
      "metadata": {
        "id": "x2GJSBo34fdk",
        "outputId": "0b356ac5-51a3-4f76-e932-9b44371f2eaa",
        "colab": {
          "base_uri": "https://localhost:8080/"
        }
      },
      "execution_count": 5,
      "outputs": [
        {
          "output_type": "stream",
          "name": "stdout",
          "text": [
            " not in tup\n"
          ]
        }
      ]
    },
    {
      "cell_type": "code",
      "source": [
        "#if with list\n",
        "ll = ['r','rs','a']\n",
        "if  ll[2]=='a':\n",
        "   ll[2]='f'\n",
        "ll"
      ],
      "metadata": {
        "colab": {
          "base_uri": "https://localhost:8080/"
        },
        "id": "hOoU_AXf80qp",
        "outputId": "e8d8fb93-f1a8-4a1a-fd3a-8fa4973fdb3b"
      },
      "execution_count": 6,
      "outputs": [
        {
          "output_type": "execute_result",
          "data": {
            "text/plain": [
              "['r', 'rs', 'f']"
            ]
          },
          "metadata": {},
          "execution_count": 6
        }
      ]
    },
    {
      "cell_type": "code",
      "source": [
        "#if with dictinary\n",
        "dd = {'k':4,'r':3,'s':33}\n",
        "if dd['r']==3:\n",
        "  dd['r']=dd['r']+100\n",
        "dd"
      ],
      "metadata": {
        "colab": {
          "base_uri": "https://localhost:8080/"
        },
        "id": "C52iXNXv-Erb",
        "outputId": "5cce55c3-878b-4eed-9c6b-0acc2deca157"
      },
      "execution_count": 7,
      "outputs": [
        {
          "output_type": "execute_result",
          "data": {
            "text/plain": [
              "{'k': 4, 'r': 103, 's': 33}"
            ]
          },
          "metadata": {},
          "execution_count": 7
        }
      ]
    },
    {
      "cell_type": "markdown",
      "source": [
        "# Practice problems self"
      ],
      "metadata": {
        "id": "kb0Q-0aHXoSi"
      }
    },
    {
      "cell_type": "code",
      "source": [
        "if __name__ == '__main__':        #1\n",
        "    # n = int(input())\n",
        "for i in range(1,n+1):''\n",
        "    print(i,end='')\n",
        "    "
      ],
      "metadata": {
        "id": "RnB0_S9LAE4Y",
        "colab": {
          "base_uri": "https://localhost:8080/",
          "height": 408
        },
        "outputId": "a6f9a67c-49a5-40d4-8388-2ad5babd4063"
      },
      "execution_count": 8,
      "outputs": [
        {
          "output_type": "error",
          "ename": "KeyboardInterrupt",
          "evalue": "ignored",
          "traceback": [
            "\u001b[0;31m---------------------------------------------------------------------------\u001b[0m",
            "\u001b[0;31mKeyboardInterrupt\u001b[0m                         Traceback (most recent call last)",
            "\u001b[0;32m<ipython-input-8-276592d5bcad>\u001b[0m in \u001b[0;36m<cell line: 1>\u001b[0;34m()\u001b[0m\n\u001b[1;32m      1\u001b[0m \u001b[0;32mif\u001b[0m \u001b[0m__name__\u001b[0m \u001b[0;34m==\u001b[0m \u001b[0;34m'__main__'\u001b[0m\u001b[0;34m:\u001b[0m        \u001b[0;31m#1\u001b[0m\u001b[0;34m\u001b[0m\u001b[0;34m\u001b[0m\u001b[0m\n\u001b[0;32m----> 2\u001b[0;31m     \u001b[0mn\u001b[0m \u001b[0;34m=\u001b[0m \u001b[0mint\u001b[0m\u001b[0;34m(\u001b[0m\u001b[0minput\u001b[0m\u001b[0;34m(\u001b[0m\u001b[0;34m)\u001b[0m\u001b[0;34m)\u001b[0m\u001b[0;34m\u001b[0m\u001b[0;34m\u001b[0m\u001b[0m\n\u001b[0m\u001b[1;32m      3\u001b[0m \u001b[0;32mfor\u001b[0m \u001b[0mi\u001b[0m \u001b[0;32min\u001b[0m \u001b[0mrange\u001b[0m\u001b[0;34m(\u001b[0m\u001b[0;36m1\u001b[0m\u001b[0;34m,\u001b[0m\u001b[0mn\u001b[0m\u001b[0;34m+\u001b[0m\u001b[0;36m1\u001b[0m\u001b[0;34m)\u001b[0m\u001b[0;34m:\u001b[0m\u001b[0;34m\u001b[0m\u001b[0;34m\u001b[0m\u001b[0m\n\u001b[1;32m      4\u001b[0m     \u001b[0mprint\u001b[0m\u001b[0;34m(\u001b[0m\u001b[0mi\u001b[0m\u001b[0;34m,\u001b[0m\u001b[0mend\u001b[0m\u001b[0;34m=\u001b[0m\u001b[0;34m''\u001b[0m\u001b[0;34m)\u001b[0m\u001b[0;34m\u001b[0m\u001b[0;34m\u001b[0m\u001b[0m\n\u001b[1;32m      5\u001b[0m \u001b[0;34m\u001b[0m\u001b[0m\n",
            "\u001b[0;32m/usr/local/lib/python3.9/dist-packages/ipykernel/kernelbase.py\u001b[0m in \u001b[0;36mraw_input\u001b[0;34m(self, prompt)\u001b[0m\n\u001b[1;32m    849\u001b[0m                 \u001b[0;34m\"raw_input was called, but this frontend does not support input requests.\"\u001b[0m\u001b[0;34m\u001b[0m\u001b[0;34m\u001b[0m\u001b[0m\n\u001b[1;32m    850\u001b[0m             )\n\u001b[0;32m--> 851\u001b[0;31m         return self._input_request(str(prompt),\n\u001b[0m\u001b[1;32m    852\u001b[0m             \u001b[0mself\u001b[0m\u001b[0;34m.\u001b[0m\u001b[0m_parent_ident\u001b[0m\u001b[0;34m,\u001b[0m\u001b[0;34m\u001b[0m\u001b[0;34m\u001b[0m\u001b[0m\n\u001b[1;32m    853\u001b[0m             \u001b[0mself\u001b[0m\u001b[0;34m.\u001b[0m\u001b[0m_parent_header\u001b[0m\u001b[0;34m,\u001b[0m\u001b[0;34m\u001b[0m\u001b[0;34m\u001b[0m\u001b[0m\n",
            "\u001b[0;32m/usr/local/lib/python3.9/dist-packages/ipykernel/kernelbase.py\u001b[0m in \u001b[0;36m_input_request\u001b[0;34m(self, prompt, ident, parent, password)\u001b[0m\n\u001b[1;32m    893\u001b[0m             \u001b[0;32mexcept\u001b[0m \u001b[0mKeyboardInterrupt\u001b[0m\u001b[0;34m:\u001b[0m\u001b[0;34m\u001b[0m\u001b[0;34m\u001b[0m\u001b[0m\n\u001b[1;32m    894\u001b[0m                 \u001b[0;31m# re-raise KeyboardInterrupt, to truncate traceback\u001b[0m\u001b[0;34m\u001b[0m\u001b[0;34m\u001b[0m\u001b[0m\n\u001b[0;32m--> 895\u001b[0;31m                 \u001b[0;32mraise\u001b[0m \u001b[0mKeyboardInterrupt\u001b[0m\u001b[0;34m(\u001b[0m\u001b[0;34m\"Interrupted by user\"\u001b[0m\u001b[0;34m)\u001b[0m \u001b[0;32mfrom\u001b[0m \u001b[0;32mNone\u001b[0m\u001b[0;34m\u001b[0m\u001b[0;34m\u001b[0m\u001b[0m\n\u001b[0m\u001b[1;32m    896\u001b[0m             \u001b[0;32mexcept\u001b[0m \u001b[0mException\u001b[0m \u001b[0;32mas\u001b[0m \u001b[0me\u001b[0m\u001b[0;34m:\u001b[0m\u001b[0;34m\u001b[0m\u001b[0;34m\u001b[0m\u001b[0m\n\u001b[1;32m    897\u001b[0m                 \u001b[0mself\u001b[0m\u001b[0;34m.\u001b[0m\u001b[0mlog\u001b[0m\u001b[0;34m.\u001b[0m\u001b[0mwarning\u001b[0m\u001b[0;34m(\u001b[0m\u001b[0;34m\"Invalid Message:\"\u001b[0m\u001b[0;34m,\u001b[0m \u001b[0mexc_info\u001b[0m\u001b[0;34m=\u001b[0m\u001b[0;32mTrue\u001b[0m\u001b[0;34m)\u001b[0m\u001b[0;34m\u001b[0m\u001b[0;34m\u001b[0m\u001b[0m\n",
            "\u001b[0;31mKeyboardInterrupt\u001b[0m: Interrupted by user"
          ]
        }
      ]
    },
    {
      "cell_type": "code",
      "source": [
        "# n = int(input())         #2\n",
        "for i in range(0,n):\n",
        "  print(i**2)"
      ],
      "metadata": {
        "id": "CLxKAol6BgPY"
      },
      "execution_count": null,
      "outputs": []
    },
    {
      "cell_type": "code",
      "source": [
        "a=4\n",
        "b= 55\n",
        "print('sum of num',a+b)"
      ],
      "metadata": {
        "id": "Z1PQBK7rcAG6"
      },
      "execution_count": null,
      "outputs": []
    },
    {
      "cell_type": "code",
      "source": [
        "# name = input('enter ur name')\n",
        "print('good af,'+name)"
      ],
      "metadata": {
        "id": "1Z3ENik3jVIU"
      },
      "execution_count": null,
      "outputs": []
    },
    {
      "cell_type": "code",
      "source": [
        "letter= ''' hii NAME good morning\n",
        "date : DATE'''\n",
        "# name = input('enter name')\n",
        "# date = input('enter date')\n",
        "letter=letter.replace('NAME',name)\n",
        "letter=letter.replace('DATE',date)\n",
        "print(letter)"
      ],
      "metadata": {
        "id": "9JbZ_RrRj0su"
      },
      "execution_count": null,
      "outputs": []
    },
    {
      "cell_type": "code",
      "source": [
        "import math          #S & T string\n",
        "import os\n",
        "import random \n",
        "import re\n",
        "import sys\n",
        "\n",
        "#Complete the 'minimum changes' function below.\n",
        "#The function is expected to return an INTEGER. The function accepts following parameters: #2. STRING T\n",
        "#1. STRING S\n",
        "#2.string T\n",
        "\n",
        "def minimum_changes (S,T):\n",
        "  n=len(S)\n",
        "\n",
        "  m=len(T)\n",
        "\n",
        "  minimum_changes=float('inf')\n",
        "\n",
        "  for i in range(n-m+1):\n",
        "    changes=0 \n",
        "    for j in range(m):\n",
        "      if S[i+j]!= T[j]: \n",
        "        changes += 1\n",
        "        if changes >= minimum_changes:\n",
        "          break \n",
        "    minimum_changes=min(minimum_changes, changes) \n",
        "\n",
        "    if minimum_changes == 0:\n",
        "      break\n",
        "  return minimum_changes\n",
        "\n",
        "if __name__== '__main__':\n",
        "\n",
        "        # S = input()\n",
        "        # T = input()\n",
        "\n",
        "        result = minimum_changes(S, T)\n",
        "        print(str(result))"
      ],
      "metadata": {
        "id": "eVD17xpBnay3"
      },
      "execution_count": null,
      "outputs": []
    },
    {
      "cell_type": "code",
      "source": [
        "import math \n",
        "import os\n",
        "import random\n",
        "import re\n",
        "import sys\n",
        "\n",
        "#Complete the 'odd_out' function below.\n",
        "\n",
        "#The function is expected to return an INTEGER. #The function accepts INTEGER ARRAY array as parameter.\n",
        "\n",
        "def odd_out(array):\n",
        "\n",
        "    result = 0 \n",
        "    for num in array:\n",
        "      result ^= num\n",
        "    return result\n",
        "\n",
        "if __name__ == '__main__': \n",
        "\n",
        "  array_count = int(input().strip()) \n",
        "  array = list (map(int,input().split()))\n",
        "  result= odd_out(array)\n",
        "  print(str(result))"
      ],
      "metadata": {
        "id": "MLMr1qUiw9xN"
      },
      "execution_count": null,
      "outputs": []
    },
    {
      "cell_type": "code",
      "source": [
        "f = input('entr friut ')# to store fruitnames in a list entered by user\n",
        "f2 = input('entr friut ')\n",
        "\n",
        "mfl = [f,f2]"
      ],
      "metadata": {
        "id": "xXryXTYZy2-T"
      },
      "execution_count": null,
      "outputs": []
    },
    {
      "cell_type": "code",
      "source": [
        "print(mfl)"
      ],
      "metadata": {
        "id": "UQUvpvCNQcMh"
      },
      "execution_count": null,
      "outputs": []
    },
    {
      "cell_type": "code",
      "source": [
        "# s1 = int(input('enter mark of 1  '))#marks in a sorted manner bys user\n",
        "# s2 = int(input('enter mark of 2 1 '))\n",
        "# s3= int(input('enter mark of 3   '))\n",
        "\n",
        "score = [s1,s2,s3]\n",
        "score.sort()\n",
        "print(score)"
      ],
      "metadata": {
        "id": "28iKoAM-Qpcb"
      },
      "execution_count": null,
      "outputs": []
    },
    {
      "cell_type": "code",
      "source": [
        "# d = int(input('enter no '))\n",
        "# d2= int(input('enter no '))\n",
        "# d3 = int(input('enter no '))\n",
        "sum_no = [d +d2 +d3]\n",
        "print('sum of no is',sum_no)"
      ],
      "metadata": {
        "id": "pIu_BfkZXEkr"
      },
      "execution_count": null,
      "outputs": []
    },
    {
      "cell_type": "code",
      "source": [
        "e = [4,3,3,343,2,21,1] \n",
        "sum(e)"
      ],
      "metadata": {
        "colab": {
          "base_uri": "https://localhost:8080/"
        },
        "id": "nh68J8Qealqp",
        "outputId": "d61cca84-c39c-4aa5-ca10-d4524c3cad26"
      },
      "execution_count": 9,
      "outputs": [
        {
          "output_type": "execute_result",
          "data": {
            "text/plain": [
              "377"
            ]
          },
          "metadata": {},
          "execution_count": 9
        }
      ]
    },
    {
      "cell_type": "code",
      "source": [
        "a = (7,0,8,0,0,9)\n",
        "e = a.count(0)\n",
        "e"
      ],
      "metadata": {
        "id": "F4PkQ-khcLVc"
      },
      "execution_count": null,
      "outputs": []
    },
    {
      "cell_type": "code",
      "source": [
        "\n"
      ],
      "metadata": {
        "id": "fBGaZXeHbktw"
      },
      "execution_count": null,
      "outputs": []
    }
  ]
}